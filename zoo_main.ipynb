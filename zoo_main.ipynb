{
 "cells": [
  {
   "cell_type": "code",
   "execution_count": 15,
   "id": "19bdc4fd",
   "metadata": {},
   "outputs": [
    {
     "ename": "NameError",
     "evalue": "name 'self' is not defined",
     "output_type": "error",
     "traceback": [
      "\u001b[1;31m---------------------------------------------------------------------------\u001b[0m",
      "\u001b[1;31mNameError\u001b[0m                                 Traceback (most recent call last)",
      "Cell \u001b[1;32mIn[15], line 48\u001b[0m\n\u001b[0;32m     46\u001b[0m \u001b[38;5;28;01mdef\u001b[39;00m\u001b[38;5;250m \u001b[39m\u001b[38;5;21m__str__\u001b[39m(ani):\n\u001b[0;32m     47\u001b[0m         \u001b[38;5;28;01mreturn\u001b[39;00m \u001b[38;5;124m\"\u001b[39m\u001b[38;5;124mPoids: \u001b[39m\u001b[38;5;132;01m{}\u001b[39;00m\u001b[38;5;124m, Taille: \u001b[39m\u001b[38;5;132;01m{}\u001b[39;00m\u001b[38;5;124m\"\u001b[39m\u001b[38;5;241m.\u001b[39mformat(\u001b[38;5;28mself\u001b[39m\u001b[38;5;241m.\u001b[39m_poids, \u001b[38;5;28mself\u001b[39m\u001b[38;5;241m.\u001b[39m_taille)   \n\u001b[1;32m---> 48\u001b[0m \u001b[38;5;28mprint\u001b[39m(\u001b[38;5;21m__str__\u001b[39m(ani))  \n\u001b[0;32m     49\u001b[0m ani \u001b[38;5;241m=\u001b[39m Animal(\u001b[38;5;124m\"\u001b[39m\u001b[38;5;124moiseau\u001b[39m\u001b[38;5;124m\"\u001b[39m)\n\u001b[0;32m     50\u001b[0m \u001b[38;5;28mprint\u001b[39m(\u001b[38;5;28mstr\u001b[39m(ani))  \n",
      "Cell \u001b[1;32mIn[15], line 47\u001b[0m, in \u001b[0;36m__str__\u001b[1;34m(ani)\u001b[0m\n\u001b[0;32m     46\u001b[0m \u001b[38;5;28;01mdef\u001b[39;00m\u001b[38;5;250m \u001b[39m\u001b[38;5;21m__str__\u001b[39m(ani):\n\u001b[1;32m---> 47\u001b[0m         \u001b[38;5;28;01mreturn\u001b[39;00m \u001b[38;5;124m\"\u001b[39m\u001b[38;5;124mPoids: \u001b[39m\u001b[38;5;132;01m{}\u001b[39;00m\u001b[38;5;124m, Taille: \u001b[39m\u001b[38;5;132;01m{}\u001b[39;00m\u001b[38;5;124m\"\u001b[39m\u001b[38;5;241m.\u001b[39mformat(\u001b[38;5;28mself\u001b[39m\u001b[38;5;241m.\u001b[39m_poids, \u001b[38;5;28mself\u001b[39m\u001b[38;5;241m.\u001b[39m_taille)\n",
      "\u001b[1;31mNameError\u001b[0m: name 'self' is not defined"
     ]
    }
   ],
   "source": [
    "class Animal: # CLASSE CONSTRUCTEUR\n",
    "    def __init__(self, poids, taille, se_deplacer):\n",
    "        self._poids = poids\n",
    "        self._taille = taille\n",
    "        self._se_deplacer = se_deplacer\n",
    "        \n",
    "    def se_deplacer(self): # METHODE\n",
    "        pass\n",
    "    \n",
    "    \n",
    "    def Serpent (self): #POLYMORPHISME\n",
    "        def se_deplacer(self): \n",
    "            print(\"Je rampe\")\n",
    "    \n",
    "    def Oiseau (self): #POLYMORPHISME\n",
    "        def se_deplacer(self):\n",
    "            print(\"Je vole\")\n",
    "    \n",
    "        def Altitude_max(self): #SUPER\n",
    "            def __init__(self):\n",
    "                if taille >= \"500m\":\n",
    "                    return (\"Error\")\n",
    "            super().__init__(oiseau)    \n",
    "\n",
    "def set_poids (self, poids):\n",
    "    if poids <=0:\n",
    "        return ValueError\n",
    "def set_taille (self, taille):\n",
    "    self._taille = taille\n",
    "\n",
    "def get_taille(self, taille):\n",
    "    return self._taille\n",
    "def get_poids(self, taille):\n",
    "    return self._poids\n",
    " \n",
    "\n",
    "\n",
    "def __str__(self):\n",
    "        return \"Poids: {}, Taille: {}\".format(self.poids, self.taille)            \n",
    "  \n",
    "oiseau = Animal (\"35grammes\", \"18cm\", \"je vole\") #INSTANCIATION ET ATTRIBUTS\n",
    "serpent = Animal (\"70kg\", \"5m\", \"je rampe\")\n",
    "ani = Animal (\"70kg\", \"5m\", \"je rampe\")\n",
    "\n",
    "\n",
    "def __str__(ani):\n",
    "        return \"Poids: {}, Taille: {}\".format(self._poids, self._taille)   \n",
    "print(__str__(ani))  \n",
    "ani = Animal(\"oiseau\")\n",
    "print(str(ani))  \n",
    "\n",
    "z1 = Zoo(Animal)\n",
    "z1.ajouter_animal(Animal(\"chat\"))\n",
    "\n",
    "\n",
    "z2 = Zoo(Animal)\n",
    "z2.ajouter_animal(Animal(\"chien\"))\n",
    "\n",
    "\n",
    "z3 = z1 + z2 #[OPERATOR OVERLOADING]\n",
    "print(str(z3))\n",
    "\n",
    "        "
   ]
  },
  {
   "cell_type": "markdown",
   "id": "03314af3",
   "metadata": {},
   "source": []
  }
 ],
 "metadata": {
  "kernelspec": {
   "display_name": "base",
   "language": "python",
   "name": "python3"
  },
  "language_info": {
   "codemirror_mode": {
    "name": "ipython",
    "version": 3
   },
   "file_extension": ".py",
   "mimetype": "text/x-python",
   "name": "python",
   "nbconvert_exporter": "python",
   "pygments_lexer": "ipython3",
   "version": "3.13.5"
  }
 },
 "nbformat": 4,
 "nbformat_minor": 5
}
