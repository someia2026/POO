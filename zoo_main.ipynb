{
 "cells": [
  {
   "cell_type": "code",
   "execution_count": null,
   "id": "19bdc4fd",
   "metadata": {},
   "outputs": [],
   "source": [
    "class Animal:\n",
    "    def __init__(self, poids, taille, se_deplacer):\n",
    "        self.__poids = poids\n",
    "        self.__taille = taille\n",
    "        self.__se_deplacer = se_deplacer\n",
    "\n",
    "    def se_deplacer(self, ):\n",
    "        return None\n",
    "    \n",
    "    class Reptile (Animal):\n",
    "        def se_deplacer(self): \n",
    "            print(\"Je rampe\")\n",
    "    \n",
    "    class Oiseau (Animal):\n",
    "        def se_deplacer(self):\n",
    "            print(\"Je vole\")\n",
    "    \n",
    "        class Altitude_max(oiseau):\n",
    "            def __init__(self):\n",
    "                if height >= \"500m\":\n",
    "                    return (\"error\")\n",
    "            super().__init__(oiseau)    \n",
    "    def get_type (self):\n",
    "        if self.__poids <0:\n",
    "        return Error\n",
    "    def set_type (self):\n",
    "        return  self__type\n",
    "            \n",
    "\n",
    "        "
   ]
  }
 ],
 "metadata": {
  "language_info": {
   "name": "python"
  }
 },
 "nbformat": 4,
 "nbformat_minor": 5
}
